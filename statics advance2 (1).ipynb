{
 "cells": [
  {
   "cell_type": "markdown",
   "id": "59b2fc86-52c4-4370-954a-176065478b94",
   "metadata": {},
   "source": [
    "Q1: What are the Probability Mass Function (PMF) and Probability Density Function (PDF)? Explain with\n",
    "an example.\n",
    "ans:Probability Mass Function (PMF): This function defines the probability that a discrete random variable is exactly equal to some value\n",
    "ex:he PMF of rolling a 6-sided die would give the probability of each side (1 through 6)\n",
    "Probability Density Function (PDF): This function is used for continuous random variables and describes the likelihood of a random variable taking on a value within a specific interval\n",
    " For instance, the PDF of a variable representing the height of adult males in a population might show the probability of heights ranging from 160 cm to 200 cm."
   ]
  },
  {
   "cell_type": "markdown",
   "id": "09099891-9894-4dac-9f65-853c3c6b3d66",
   "metadata": {},
   "source": [
    "Q2: What is Cumulative Density Function (CDF)? Explain with an example. Why CDF is used?\n",
    "ans:The Cumulative Distribution Function (CDF) is a function that indicates the probability that a random variable ( X ) will take a value less than or equal to ( x ). It’s used for both discrete and continuous random variables.\n",
    "##\n",
    "For a discrete random variable, the CDF is the sum of the probabilities of the outcomes up to and including a certain value. For example, if you roll a die, the CDF at ( x = 3 ) would be the probability of rolling a 1, 2, or 3,\n",
    "##For a continuous random variable, the CDF is the area under the PDF curve to the left of ( x ). For instance, if ( X ) is the height of adult males in a population, the CDF at ( x = 170 ) cm would give the probability of a randomly selected male being 170 cm tall or shorter.\n",
    "** uses of CDF\n",
    "Determining probabilities for ranges of values.\n",
    "Understanding the likelihood of a variable falling within a particular range.\n",
    "Comparing different distributions.\n",
    "Calculating percentiles and quantiles."
   ]
  },
  {
   "cell_type": "markdown",
   "id": "819b4c38-76d9-4339-8888-7e3f005f6df8",
   "metadata": {},
   "source": [
    "Q3: What are some examples of situations where the normal distribution might be used as a model?\n",
    "Explain how the parameters of the normal distribution relate to the shape of the distribution.\n",
    "ans:The normal distribution, often called the Gaussian distribution, is a common model in statistics due to its occurrence in many cases\n",
    "like\n",
    " 1.Heights, weights, and blood pressure readings of a population tend to follow a normal distribution.\n",
    "2. IRIS dataset\n",
    "**The shape of the normal distribution is characterized\n",
    "This bell-shaped curve shows that data near the mean are more frequent in occurrence than data far from the mean.\n",
    "The Empirical Rule, also known as the 68-95-99.7 rule, is a statistical rule that applies to normally distributed data. It states that:\n",
    "*68% of the data falls within one standard deviation of the mean\n",
    "*95% falls within two standard deviations\n",
    "*99.7% falls within three standard deviations in region\n"
   ]
  },
  {
   "cell_type": "markdown",
   "id": "1618c9b4-4c6a-4b2d-90c5-8e318cec32fd",
   "metadata": {},
   "source": [
    "Q4.Explain the importance of Normal Distribution. Give a few real-life examples of Normal Distribution.\n",
    "ans:Normal Distribution, also known as the Gaussian Distribution or Bell Curve, plays a crucial role in statistics and has several real-life application\n",
    "*Height of People: Heights of individuals in a population tend to follow a normal distribution. Most people cluster around the average height, with fewer outliers at extreme heights.\n",
    "*Birth Weight: The birth weights of newborns also exhibit a bell-shaped distribution. Babies born close to the average weight are more common than those with very low or very high birth weights.\n",
    "*Blood Pressure: Blood pressure measurements in a population often follow a normal distribution. The majority of people fall within a certain range of systolic and diastolic pressures.\n",
    "*Test Scores (e.g., SAT): Standardized test scores, such as SAT or ACT scores, are typically normally distributed. Most students score around the mean, with fewer extreme scores.\n",
    "*Shoe Sizes: Shoe sizes for adults often form a bell curve. Common sizes are more frequent, while very small or very large sizes occur less frequently.\n",
    "NFL Retirement Age: The age at which NFL players retire tends to follow a normal distribution. Most players retire around a certain age, with fewer retiring much earlier or later.\n"
   ]
  },
  {
   "cell_type": "markdown",
   "id": "5baa2702-ab30-48bf-a9ec-0aadd97c2ba3",
   "metadata": {},
   "source": [
    "Q5: What is Bernaulli Distribution? Give an Example. What is the difference between Bernoulli Distribution and Binomial Distribution?\n",
    "ans:binary outcomes of the perticular probability. if its probiblity mas function is said to be:\n",
    "p=probability of sucess\n",
    "1-p=probability of failure\n",
    "Bernoulli Distribution:\n",
    "Describes a single Bernoulli trial (one experiment).\n",
    "Only two possible outcomes: success (1) or failure (0).\n",
    "If we have a Binomial Distribution with (n = 1), it becomes a Bernoulli Distribution.\n",
    "Binomial Distribution:\n",
    "Models the number of successes in a fixed number of independent Bernoulli trials (experiments).\n",
    "Involves multiple trials (e.g., flipping a coin (n) times).\n",
    "Parameters: (n) (number of trials) and (p) (probability of success in each trial)"
   ]
  },
  {
   "cell_type": "markdown",
   "id": "e180a13b-1da7-475b-99e6-855b95f1eac0",
   "metadata": {},
   "source": [
    " Consider a dataset with a mean of 50 and a standard deviation of 10. If we assume that the dataset\n",
    "is normally distributed, what is the probability that a randomly selected observation will be greater\n",
    "than 60? Use the appropriate formula and show your calculations."
   ]
  },
  {
   "cell_type": "code",
   "execution_count": 1,
   "id": "cf3a3eab-8b0d-4dfd-9bf2-be17dd765029",
   "metadata": {},
   "outputs": [],
   "source": [
    "#ans:\n",
    "import scipy.stats as stats\n",
    "mean = 50\n",
    "std_dev = 10\n",
    "value = 60\n",
    "    "
   ]
  },
  {
   "cell_type": "code",
   "execution_count": 2,
   "id": "0941d260-67be-496d-bcd0-3dc785f1da27",
   "metadata": {},
   "outputs": [],
   "source": [
    "z_score=(value-mean)/std_dev"
   ]
  },
  {
   "cell_type": "code",
   "execution_count": 3,
   "id": "db702d3d-68c3-4313-bd6a-70ed93d5f3f7",
   "metadata": {},
   "outputs": [
    {
     "data": {
      "text/plain": [
       "1.0"
      ]
     },
     "execution_count": 3,
     "metadata": {},
     "output_type": "execute_result"
    }
   ],
   "source": [
    "z_score"
   ]
  },
  {
   "cell_type": "code",
   "execution_count": 4,
   "id": "dfb1d89b-65a7-461f-a256-818f38e4749f",
   "metadata": {},
   "outputs": [],
   "source": [
    "probability_greater_than_60 = 1 - stats.norm.cdf(z_score)"
   ]
  },
  {
   "cell_type": "code",
   "execution_count": 5,
   "id": "05008df0-798d-4ac1-9c84-f0c796523ae7",
   "metadata": {},
   "outputs": [
    {
     "name": "stdout",
     "output_type": "stream",
     "text": [
      "Probability (X > 60) = 0.1587\n"
     ]
    }
   ],
   "source": [
    "# Display the result\n",
    "print(f\"Probability (X > 60) = {probability_greater_than_60:.4f}\")"
   ]
  },
  {
   "cell_type": "markdown",
   "id": "60bd3f16-c60e-49d8-bd06-1b5356f72af9",
   "metadata": {},
   "source": [
    "Q7: Explain uniform Distribution with an example.\n",
    "ans:The Uniform Distribution is a type of probability distribution where all outcomes within a specified range have an equal likelihood of occurring. It can be either discrete (for whole numbers) or continuous (for real numbers). \n",
    "ex:rolling dice, drawing cards, or random sampling.\n",
    "p(1)=1/6,p(2)=1/6 ,p(3)=1/6......"
   ]
  },
  {
   "cell_type": "markdown",
   "id": "fec8c070-af73-4733-96bc-141cfc778c9d",
   "metadata": {},
   "source": [
    "What is the z score? State the importance of the z score.\n",
    "ans:The z-score is a statistical measure that helps us understand where a specific data point lies within a distribution\n",
    "* A z-score measures the distance between a data point and the mean using standard deviations.\n",
    "*It can be positive or negative, indicating whether the observation is above or below the mean.\n",
    "*Statisticians also refer to z-scores as standard scores\n",
    "*Understanding Position: Z-scores help us understand where an individual observation fits into a distribution\n",
    "*Hypothesis Testing: Z-scores play a crucial role in hypothesis testing, particularly with Z-tests."
   ]
  },
  {
   "cell_type": "markdown",
   "id": "3c4edc23-f0c5-4e8b-ab81-2a069dfa461d",
   "metadata": {},
   "source": [
    "Q9: What is Central Limit Theorem? State the significance of the Central Limit Theorem.\n",
    "The central litmit theorem relies on the concept of Sampling diftribution, which if the probability distribution of Statistics for a large number of samply taken from a population\n",
    "\n",
    "• Says that the sampling distribution of the mean will always be normally dishibution  as long as the sample size is enough"
   ]
  },
  {
   "cell_type": "markdown",
   "id": "fca5366e-22a3-4f74-bbf4-fb27cf9c4fc6",
   "metadata": {},
   "source": [
    "Q10: State the assumptions of the Central Limit Theorem.\n",
    "ans:1.the sampling distribution of the mean will be normal distribution\n",
    "2. its doesnt follow the normal or gaussian distribution\n",
    "3.if an random variable or distrinution is poissioon ,or binomiol it is also follow the normal distribution"
   ]
  },
  {
   "cell_type": "code",
   "execution_count": null,
   "id": "d58bc3f6-1c56-4b99-9236-f56e8c9bbd07",
   "metadata": {},
   "outputs": [],
   "source": []
  }
 ],
 "metadata": {
  "kernelspec": {
   "display_name": "Python 3 (ipykernel)",
   "language": "python",
   "name": "python3"
  },
  "language_info": {
   "codemirror_mode": {
    "name": "ipython",
    "version": 3
   },
   "file_extension": ".py",
   "mimetype": "text/x-python",
   "name": "python",
   "nbconvert_exporter": "python",
   "pygments_lexer": "ipython3",
   "version": "3.10.8"
  }
 },
 "nbformat": 4,
 "nbformat_minor": 5
}
